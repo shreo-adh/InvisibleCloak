{
 "cells": [
  {
   "cell_type": "code",
   "execution_count": 1,
   "metadata": {},
   "outputs": [],
   "source": [
    "import cv2\n",
    "import numpy as np"
   ]
  },
  {
   "cell_type": "code",
   "execution_count": 2,
   "metadata": {},
   "outputs": [],
   "source": [
    "cap = cv2.VideoCapture(\"get_color.mp4\")"
   ]
  },
  {
   "cell_type": "code",
   "execution_count": 3,
   "metadata": {},
   "outputs": [],
   "source": [
    "def emptyfunc(a):\n",
    "    pass\n",
    "\n",
    "cv2.namedWindow(\"HSV\")\n",
    "cv2.resizeWindow(\"HSV\",640,240)\n",
    "cv2.createTrackbar(\"HUE Min\",\"HSV\",0,179,emptyfunc)\n",
    "cv2.createTrackbar(\"HUE Max\",\"HSV\",179,179,emptyfunc)\n",
    "cv2.createTrackbar(\"SAT Min\",\"HSV\",0,179,emptyfunc)\n",
    "cv2.createTrackbar(\"SAT Max\",\"HSV\",255,255,emptyfunc)\n",
    "cv2.createTrackbar(\"VALUE Min\",\"HSV\",0,179,emptyfunc)\n",
    "cv2.createTrackbar(\"VALUE Max\",\"HSV\",255,255,emptyfunc)\n",
    "\n",
    "while True:\n",
    "    ret,getcolor = cap.read()\n",
    "    if not ret:\n",
    "        break\n",
    "    getcolor = cv2.rotate(getcolor, cv2.cv2.ROTATE_90_CLOCKWISE) \n",
    "    imgHsv = cv2.cvtColor(getcolor,cv2.COLOR_BGR2HSV)\n",
    "    \n",
    "    h_min = cv2.getTrackbarPos(\"HUE Min\",\"HSV\")\n",
    "    h_max = cv2.getTrackbarPos(\"HUE Max\", \"HSV\")\n",
    "    s_min = cv2.getTrackbarPos(\"SAT Min\", \"HSV\")\n",
    "    s_max = cv2.getTrackbarPos(\"SAT Max\", \"HSV\")\n",
    "    v_min = cv2.getTrackbarPos(\"VALUE Min\", \"HSV\")\n",
    "    v_max = cv2.getTrackbarPos(\"VALUE Max\", \"HSV\")\n",
    "\n",
    "    lower = np.array([h_min,s_min,v_min])\n",
    "    upper = np.array([h_max,s_max,v_max])\n",
    "    mask = cv2.inRange(imgHsv,lower,upper)\n",
    "    result = cv2.bitwise_and(getcolor,getcolor, mask = mask)\n",
    "\n",
    "    mask = cv2.cvtColor(mask, cv2.COLOR_GRAY2BGR)\n",
    "    \n",
    "    cv2.imshow('Original', getcolor)\n",
    "    cv2.imshow('Mask', mask)\n",
    "    cv2.imshow('Result', result)\n",
    "\n",
    "    if cv2.waitKey(500) & 0xFF == ord('q'):\n",
    "        break\n",
    "cap.release()\n",
    "cv2.destroyAllWindows()"
   ]
  },
  {
   "cell_type": "code",
   "execution_count": 4,
   "metadata": {},
   "outputs": [
    {
     "name": "stdout",
     "output_type": "stream",
     "text": [
      "89\n",
      "116\n",
      "153\n",
      "255\n",
      "42\n",
      "215\n"
     ]
    }
   ],
   "source": [
    "print(h_min)\n",
    "print(h_max)\n",
    "print(s_min)\n",
    "print(s_max)\n",
    "print(v_min)\n",
    "print(v_max)"
   ]
  },
  {
   "cell_type": "code",
   "execution_count": 5,
   "metadata": {},
   "outputs": [],
   "source": [
    "background = 0\n",
    "capn = cv2.VideoCapture(\"get_bg.mp4\")"
   ]
  },
  {
   "cell_type": "code",
   "execution_count": 6,
   "metadata": {},
   "outputs": [],
   "source": [
    "for i in range(30):\n",
    "    ret, background = capn.read()\n",
    "background = np.flip(background, axis=1)\n",
    "background = cv2.rotate(background, cv2.ROTATE_90_COUNTERCLOCKWISE) "
   ]
  },
  {
   "cell_type": "code",
   "execution_count": 9,
   "metadata": {},
   "outputs": [],
   "source": [
    "capture = cv2.VideoCapture(\"Video.mp4\")"
   ]
  },
  {
   "cell_type": "code",
   "execution_count": 10,
   "metadata": {},
   "outputs": [],
   "source": [
    "while (capture.isOpened()):\n",
    "    ret, img = capture.read()\n",
    "    if not ret:\n",
    "        break\n",
    "    \n",
    "    img = np.flip(img, axis=1)\n",
    "    img = cv2.rotate(img, cv2.ROTATE_90_COUNTERCLOCKWISE) \n",
    "    \n",
    "    # Convert the color space from BGR to HSV\n",
    "    hsv = cv2.cvtColor(img, cv2.COLOR_BGR2HSV)\n",
    "\n",
    "    ## Generat mask to detect color\n",
    "    \n",
    "    lower = np.array([h_min,s_min,v_min])\n",
    "    upper = np.array([h_max,s_max,v_max])\n",
    "    mask1 = cv2.inRange(hsv, lower, upper)\n",
    "    \n",
    "   \n",
    "    # Open and Dilate the mask image\n",
    "    kernel = np.ones((5,5), np.uint8)\n",
    "\n",
    "    mask1 = cv2.morphologyEx(mask1, cv2.MORPH_OPEN,kernel)\n",
    "    mask1 = cv2.morphologyEx(mask1, cv2.MORPH_DILATE, kernel)\n",
    "\n",
    "    # Create an inverted mask get the cloth color from the frame\n",
    "    mask2 = cv2.bitwise_not(mask1)\n",
    "\n",
    "    # Use the present frame and remove the cloth (segment out) using mask2\n",
    "    present = cv2.bitwise_and(img, img, mask=mask2)\n",
    "\n",
    "    # Use the background image to get the segment of the cloth area using mask1\n",
    "    past = cv2.bitwise_and(background, background, mask=mask1)\n",
    "\n",
    "    # Generating the final output using the two frames\n",
    "    finalOutput = cv2.addWeighted(present, 1, past, 1, 0)\n",
    "    \n",
    "    cv2.imshow('Original',img)\n",
    "    cv2.imshow(\"Final\", finalOutput)\n",
    "    if cv2.waitKey(25) & 0xFF == ord('q'):\n",
    "        break\n",
    "\n",
    "cv2.destroyAllWindows()"
   ]
  },
  {
   "cell_type": "code",
   "execution_count": null,
   "metadata": {},
   "outputs": [],
   "source": []
  }
 ],
 "metadata": {
  "kernelspec": {
   "display_name": "Python 3",
   "language": "python",
   "name": "python3"
  },
  "language_info": {
   "codemirror_mode": {
    "name": "ipython",
    "version": 3
   },
   "file_extension": ".py",
   "mimetype": "text/x-python",
   "name": "python",
   "nbconvert_exporter": "python",
   "pygments_lexer": "ipython3",
   "version": "3.7.7"
  }
 },
 "nbformat": 4,
 "nbformat_minor": 4
}
